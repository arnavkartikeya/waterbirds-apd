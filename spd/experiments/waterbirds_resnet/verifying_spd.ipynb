{
 "cells": [
  {
   "cell_type": "code",
   "execution_count": 2,
   "metadata": {},
   "outputs": [],
   "source": [
    "import math\n",
    "import os\n",
    "from pathlib import Path\n",
    "from typing import Callable, Optional\n",
    "import numpy as np\n",
    "import yaml\n",
    "\n",
    "import torch\n",
    "import torch.nn as nn\n",
    "import torch.optim as optim\n",
    "import torchvision.transforms as T\n",
    "from torch.utils.data import DataLoader\n",
    "from tqdm import tqdm\n",
    "from wilds import get_dataset\n",
    "\n",
    "from models import WaterbirdResNet18, SPDTwoLayerFC\n",
    "from spd.run_spd import get_lr_schedule_fn, get_lr_with_warmup\n",
    "from spd.hooks import HookedRootModule\n",
    "from spd.log import logger\n",
    "from spd.models.base import SPDModel\n",
    "from spd.module_utils import (\n",
    "    get_nested_module_attr,\n",
    "    collect_nested_module_attrs,\n",
    ")\n",
    "from spd.types import Probability\n",
    "from spd.utils import set_seed\n",
    "from train_resnet import WaterbirdsSubset\n",
    "from run_spd import load_config_from_yaml\n",
    "from run_spd import WaterbirdSPDConfig\n",
    "from run_spd import calculate_attributions"
   ]
  },
  {
   "cell_type": "code",
   "execution_count": 3,
   "metadata": {},
   "outputs": [],
   "source": [
    "waterbird_config = load_config_from_yaml('optuna_trials/trial_27_config.yaml')"
   ]
  },
  {
   "cell_type": "code",
   "execution_count": 4,
   "metadata": {},
   "outputs": [
    {
     "name": "stderr",
     "output_type": "stream",
     "text": [
      "/tmp/ipykernel_2801336/2318415412.py:2: FutureWarning: You are using `torch.load` with `weights_only=False` (the current default value), which uses the default pickle module implicitly. It is possible to construct malicious pickle data which will execute arbitrary code during unpickling (See https://github.com/pytorch/pytorch/blob/main/SECURITY.md#untrusted-models for more details). In a future release, the default value for `weights_only` will be flipped to `True`. This limits the functions that could be executed during unpickling. Arbitrary objects will no longer be allowed to be loaded via this mode unless they are explicitly allowlisted by the user via `torch.serialization.add_safe_globals`. We recommend you start setting `weights_only=True` for any use case where you don't have full control of the loaded file. Please open an issue on GitHub for any issues related to this experimental feature.\n",
      "  ckpt = torch.load(waterbird_config.teacher_ckpt, map_location=\"cpu\")\n",
      "/tmp/ipykernel_2801336/2318415412.py:19: FutureWarning: You are using `torch.load` with `weights_only=False` (the current default value), which uses the default pickle module implicitly. It is possible to construct malicious pickle data which will execute arbitrary code during unpickling (See https://github.com/pytorch/pytorch/blob/main/SECURITY.md#untrusted-models for more details). In a future release, the default value for `weights_only` will be flipped to `True`. This limits the functions that could be executed during unpickling. Arbitrary objects will no longer be allowed to be loaded via this mode unless they are explicitly allowlisted by the user via `torch.serialization.add_safe_globals`. We recommend you start setting `weights_only=True` for any use case where you don't have full control of the loaded file. Please open an issue on GitHub for any issues related to this experimental feature.\n",
      "  spd_fc.load_state_dict(torch.load('optuna_trials/trial_27_spd.pth', map_location=\"cpu\"))\n"
     ]
    },
    {
     "data": {
      "text/plain": [
       "SPDTwoLayerFC(\n",
       "  (fc1): LinearComponent(\n",
       "    (hook_pre): HookPoint()\n",
       "    (hook_component_acts): HookPoint()\n",
       "    (hook_post): HookPoint()\n",
       "  )\n",
       "  (fc2): LinearComponent(\n",
       "    (hook_pre): HookPoint()\n",
       "    (hook_component_acts): HookPoint()\n",
       "    (hook_post): HookPoint()\n",
       "  )\n",
       ")"
      ]
     },
     "execution_count": 4,
     "metadata": {},
     "output_type": "execute_result"
    }
   ],
   "source": [
    "device = 'cuda'\n",
    "ckpt = torch.load(waterbird_config.teacher_ckpt, map_location=\"cpu\")\n",
    "if \"model_state_dict\" in ckpt:\n",
    "    state_dict = ckpt[\"model_state_dict\"]\n",
    "else:\n",
    "    state_dict = ckpt \n",
    "teacher_model = WaterbirdResNet18(num_classes=2, hidden_dim=512)\n",
    "teacher_model.to(device)\n",
    "teacher_model.eval() \n",
    "\n",
    "spd_fc = SPDTwoLayerFC(\n",
    "    in_features=512,\n",
    "    hidden_dim=512,\n",
    "    num_classes=2,\n",
    "    C=40,      \n",
    "    m_fc1=16, \n",
    "    m_fc2=16\n",
    ")\n",
    "spd_fc.load_state_dict(torch.load('optuna_trials/trial_27_spd.pth', map_location=\"cpu\"))\n",
    "spd_fc.to(device)\n",
    "spd_fc.eval()"
   ]
  },
  {
   "cell_type": "code",
   "execution_count": 14,
   "metadata": {},
   "outputs": [
    {
     "data": {
      "text/plain": [
       "torch.Size([40, 16, 2])"
      ]
     },
     "execution_count": 14,
     "metadata": {},
     "output_type": "execute_result"
    }
   ],
   "source": [
    "spd_fc.fc2.B.shape"
   ]
  },
  {
   "cell_type": "code",
   "execution_count": 8,
   "metadata": {},
   "outputs": [
    {
     "name": "stdout",
     "output_type": "stream",
     "text": [
      "Total dataset size: 11788\n"
     ]
    }
   ],
   "source": [
    "trunk = teacher_model.features\n",
    "teacher_fc1 = teacher_model.fc1\n",
    "teacher_fc2 = teacher_model.fc2\n",
    "\n",
    "waterbird_dataset = get_dataset(dataset=\"waterbirds\", download=False)\n",
    "dataset_size = len(waterbird_dataset)\n",
    "print(f\"Total dataset size: {dataset_size}\")\n",
    "\n",
    "all_indices = np.arange(dataset_size)\n",
    "np.random.shuffle(all_indices)\n",
    "train_indices = all_indices[:2000].tolist()\n",
    "\n",
    "train_transform = T.Compose([\n",
    "    T.Resize((224, 224)),\n",
    "    T.ToTensor()\n",
    "])\n",
    "\n",
    "train_subset = WaterbirdsSubset(\n",
    "    waterbird_dataset, \n",
    "    indices=train_indices,\n",
    "    transform=train_transform\n",
    ")\n",
    "loader = DataLoader(train_subset, batch_size=1, shuffle=True)"
   ]
  },
  {
   "cell_type": "code",
   "execution_count": 5,
   "metadata": {},
   "outputs": [],
   "source": [
    "from tqdm import tqdm "
   ]
  },
  {
   "cell_type": "code",
   "execution_count": 9,
   "metadata": {},
   "outputs": [
    {
     "name": "stderr",
     "output_type": "stream",
     "text": [
      "100%|██████████| 2000/2000 [00:13<00:00, 151.07it/s]\n"
     ]
    }
   ],
   "source": [
    "\n",
    "data_iter = iter(loader)\n",
    "epoch = 0\n",
    "\n",
    "param_names = [\"fc1\",\"fc2\"]\n",
    "\n",
    "total_attributions = [] \n",
    "\n",
    "for batch_data in tqdm(loader): \n",
    "    imgs, bird_label, meta = batch_data\n",
    "    imgs = imgs.to(device)\n",
    "    bird_label = bird_label.to(device)\n",
    "    background_label = meta.float().to(device)  # shape [B], 0 or 1\n",
    "    if meta[0].float() == 0:\n",
    "        continue \n",
    "    \n",
    "    with torch.no_grad():\n",
    "        feats = trunk(imgs)\n",
    "        feats = feats.flatten(1)  # [B, 512]\n",
    "\n",
    "    feats_with_grad = feats.detach().clone().requires_grad_(True)\n",
    "    teacher_cache = {}\n",
    "\n",
    "    teacher_cache[\"fc1.hook_pre\"] = feats_with_grad\n",
    "    teacher_h_pre = teacher_fc1(feats_with_grad)\n",
    "    teacher_cache[\"fc1.hook_post\"] = teacher_h_pre\n",
    "\n",
    "    teacher_h = torch.relu(teacher_h_pre)\n",
    "    teacher_cache[\"fc2.hook_pre\"] = teacher_h\n",
    "\n",
    "    teacher_out = teacher_fc2(teacher_h)\n",
    "    teacher_cache[\"fc2.hook_post\"] = teacher_out\n",
    "\n",
    "    spd_fc.reset_hooks()\n",
    "    cache_dict, fwd_hooks, _ = spd_fc.get_caching_hooks()\n",
    "    with spd_fc.hooks(fwd_hooks, [], reset_hooks_end=True):\n",
    "        spd_h_pre = spd_fc.fc1(feats)\n",
    "        spd_h = torch.relu(spd_h_pre)\n",
    "        spd_out = spd_fc.fc2(spd_h)\n",
    "\n",
    "    pre_weight_acts = {}\n",
    "    post_weight_acts = {}\n",
    "    comp_acts = {}\n",
    "    for k,v in cache_dict.items():\n",
    "        if k.endswith(\"hook_pre\"):\n",
    "            pre_weight_acts[k] = v\n",
    "        elif k.endswith(\"hook_post\"):\n",
    "            post_weight_acts[k] = v\n",
    "        elif k.endswith(\"hook_component_acts\"):\n",
    "            comp_acts[k.removesuffix(\".hook_component_acts\")] = v  # e.g. \"fc1\", \"fc2\"\n",
    "\n",
    "    teacher_pre_acts = {k:v for k,v in teacher_cache.items() if k.endswith(\"hook_pre\")}\n",
    "    teacher_post_acts= {k:v for k,v in teacher_cache.items() if k.endswith(\"hook_post\")}\n",
    "\n",
    "    attributions = calculate_attributions(\n",
    "        model=spd_fc,\n",
    "        input_x=feats,\n",
    "        out=spd_out,\n",
    "        teacher_out=teacher_out if getattr(waterbird_config,\"distil_from_target\",True) else spd_out,\n",
    "        pre_acts=teacher_pre_acts,\n",
    "        post_acts=teacher_post_acts,\n",
    "        component_acts=comp_acts,\n",
    "        attribution_type=waterbird_config.attribution_type\n",
    "    )\n",
    "\n",
    "    total_attributions.append(attributions.detach().cpu().numpy())\n",
    "\n",
    "\n",
    "\n"
   ]
  },
  {
   "cell_type": "code",
   "execution_count": 10,
   "metadata": {},
   "outputs": [],
   "source": [
    "total_attributions = np.array(total_attributions).squeeze(1)"
   ]
  },
  {
   "cell_type": "code",
   "execution_count": 11,
   "metadata": {},
   "outputs": [
    {
     "data": {
      "image/png": "[encoded data removed]",
      "text/plain": [
       "<Figure size 1000x600 with 1 Axes>"
      ]
     },
     "metadata": {},
     "output_type": "display_data"
    }
   ],
   "source": [
    "import numpy as np\n",
    "import matplotlib.pyplot as plt\n",
    "\n",
    "# Assuming total_attributions is your NumPy array\n",
    "mean_values = np.mean(total_attributions, axis=0)\n",
    "\n",
    "# Plotting the mean values per column\n",
    "plt.figure(figsize=(10, 6))\n",
    "plt.bar(np.arange(len(mean_values)), mean_values, align='center', alpha=0.7)\n",
    "plt.xlabel('Column Index')\n",
    "plt.ylabel('Mean Value')\n",
    "plt.title('Mean Value per Column in total_attributions Array')\n",
    "plt.xticks(np.arange(len(mean_values)), np.arange(len(mean_values)))\n",
    "plt.grid(axis='y')\n",
    "plt.show()"
   ]
  },
  {
   "cell_type": "code",
   "execution_count": 13,
   "metadata": {},
   "outputs": [
    {
     "name": "stdout",
     "output_type": "stream",
     "text": [
      "\n",
      "Schatten‑1 norms per component:\n",
      "  fc1: 6.836, 6.813, 6.543, 7.010, 6.710, 6.720, 6.791, 6.813, 6.862, 6.711, 6.733, 6.781, 6.651, 6.681, 6.805, 6.905, 6.936, 7.005, 6.545, 6.806, 6.648, 6.699, 7.031, 6.676, 6.946, 6.950, 6.640, 6.768, 6.741, 6.788, 6.836, 6.960, 6.588, 6.609, 6.722, 6.853, 6.831, 6.911, 6.809, 7.072\n",
      "  fc2: 0.504, 0.309, 0.304, 0.334, 0.396, 0.289, 0.342, 0.248, 0.320, 0.346, 0.405, 0.392, 0.315, 0.308, 0.455, 0.291, 0.348, 0.374, 0.287, 0.274, 0.316, 0.386, 0.345, 0.321, 0.415, 0.366, 0.350, 0.349, 0.301, 0.382, 0.341, 0.360, 0.351, 0.282, 0.323, 0.289, 0.419, 0.420, 0.410, 0.849\n"
     ]
    },
    {
     "data": {
      "image/png": "[encoded data removed]",
      "text/plain": [
       "<Figure size 1000x300 with 2 Axes>"
      ]
     },
     "metadata": {},
     "output_type": "display_data"
    }
   ],
   "source": [
    "def component_schatten_norms(spd_head: SPDTwoLayerFC, p: float = 2.0):\n",
    "    norms = {}                                      # {layer: np.array[C]}\n",
    "    for layer_name in (\"fc1\", \"fc2\"):\n",
    "        layer = getattr(spd_head, layer_name)\n",
    "        A, B = layer.A, layer.B                     # A:[C,d_in,m], B:[C,m,d_out]\n",
    "        C = A.size(0)\n",
    "        comp_norms = torch.zeros(C, device=A.device)\n",
    "        for c in range(C):\n",
    "            # full weight slice for this component\n",
    "            P_c = A[c] @ B[c]                       # shape (d_in, d_out)  rank ≤ m\n",
    "            s = torch.linalg.svdvals(P_c)           # singular values\n",
    "            comp_norms[c] = (s.pow(p).sum()) ** (1.0 / p)\n",
    "        norms[layer_name] = comp_norms.detach().cpu().numpy()\n",
    "    return norms\n",
    "\n",
    "schatten_p = 1.0          # pick the p‑norm you care about\n",
    "schatten = component_schatten_norms(spd_fc, p=schatten_p)\n",
    "\n",
    "# Pretty print\n",
    "print(f\"\\nSchatten‑{schatten_p:g} norms per component:\")\n",
    "for lyr, arr in schatten.items():\n",
    "    print(f\"  {lyr}: \" + \", \".join(f\"{v:.3f}\" for v in arr))\n",
    "\n",
    "# If you also want a quick visual comparison:\n",
    "fig, ax = plt.subplots(1, 2, figsize=(10, 3), sharey=True)\n",
    "for i, lyr in enumerate((\"fc1\", \"fc2\")):\n",
    "    ax[i].bar(np.arange(len(schatten[lyr])), schatten[lyr])\n",
    "    ax[i].set_title(f\"{lyr}\")\n",
    "    ax[i].set_xlabel(\"Component c\")\n",
    "ax[0].set_ylabel(f\"Schatten‑{schatten_p:g} norm  ||A_c B_cᵀ||_Sp\")\n",
    "plt.tight_layout()\n",
    "plt.show()"
   ]
  },
  {
   "cell_type": "code",
   "execution_count": null,
   "metadata": {},
   "outputs": [],
   "source": []
  }
 ],
 "metadata": {
  "kernelspec": {
   "display_name": "Python 3 (ipykernel)",
   "language": "python",
   "name": "python3"
  },
  "language_info": {
   "codemirror_mode": {
    "name": "ipython",
    "version": 3
   },
   "file_extension": ".py",
   "mimetype": "text/x-python",
   "name": "python",
   "nbconvert_exporter": "python",
   "pygments_lexer": "ipython3",
   "version": "3.12.3"
  }
 },
 "nbformat": 4,
 "nbformat_minor": 4
}
